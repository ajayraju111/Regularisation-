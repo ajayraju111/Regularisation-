{
 "cells": [
  {
   "cell_type": "code",
   "execution_count": 1,
   "metadata": {},
   "outputs": [],
   "source": [
    "import pandas as pd\n",
    "import numpy as np\n",
    "import matplotlib.pyplot as plt\n",
    "import random\n",
    "from IPython.display import clear_output"
   ]
  },
  {
   "cell_type": "code",
   "execution_count": 2,
   "metadata": {},
   "outputs": [],
   "source": [
    "data=pd.read_csv('USA_Housing.csv')"
   ]
  },
  {
   "cell_type": "code",
   "execution_count": 3,
   "metadata": {},
   "outputs": [
    {
     "data": {
      "text/plain": [
       "Index(['Avg. Area Income', 'Avg. Area House Age', 'Avg. Area Number of Rooms',\n",
       "       'Avg. Area Number of Bedrooms', 'Area Population', 'Price', 'Address'],\n",
       "      dtype='object')"
      ]
     },
     "execution_count": 3,
     "metadata": {},
     "output_type": "execute_result"
    }
   ],
   "source": [
    "data.columns"
   ]
  },
  {
   "cell_type": "code",
   "execution_count": 4,
   "metadata": {},
   "outputs": [
    {
     "data": {
      "text/plain": [
       "(5000, 7)"
      ]
     },
     "execution_count": 4,
     "metadata": {},
     "output_type": "execute_result"
    }
   ],
   "source": [
    "data.shape"
   ]
  },
  {
   "cell_type": "markdown",
   "metadata": {},
   "source": [
    "First 2500 values for training data set\n"
   ]
  },
  {
   "cell_type": "code",
   "execution_count": 5,
   "metadata": {},
   "outputs": [],
   "source": [
    "target_train=data['Price']\n",
    "target_train=target_train[:2500]\n",
    "features_train=data.drop(['Price'],axis=1).copy() #slecting features and target variables\n",
    "features_train=data.drop('Address',axis=1)\n",
    "features_train=features_train[:2500]\n"
   ]
  },
  {
   "cell_type": "code",
   "execution_count": 6,
   "metadata": {},
   "outputs": [],
   "source": [
    "features_train=features_train.select_dtypes(include=['int32','int64'])\n",
    "\n"
   ]
  },
  {
   "cell_type": "code",
   "execution_count": 7,
   "metadata": {},
   "outputs": [
    {
     "data": {
      "text/plain": [
       "(2500, 0)"
      ]
     },
     "execution_count": 7,
     "metadata": {},
     "output_type": "execute_result"
    }
   ],
   "source": [
    "features_train.shape\n"
   ]
  },
  {
   "cell_type": "code",
   "execution_count": 8,
   "metadata": {},
   "outputs": [
    {
     "data": {
      "text/plain": [
       "(2500,)"
      ]
     },
     "execution_count": 8,
     "metadata": {},
     "output_type": "execute_result"
    }
   ],
   "source": [
    "target_train.shape"
   ]
  },
  {
   "cell_type": "code",
   "execution_count": 9,
   "metadata": {},
   "outputs": [],
   "source": [
    "#defining the functions for trainig data set\n",
    "def curve(m,x,c):\n",
    "    return np.dot(m,x.T)+c   \n",
    "\n",
    "def error(m,x,c,y,reg_parm):\n",
    "    return np.mean((curve(m,x,c)-y)**2)+reg_parm*(np.sum(m)**2)\n",
    "    \n",
    "def derivative_intercept(m,x,c,y):\n",
    "        return 2*np. mean(curve(m,x,c)-y)\n",
    "def acc(error,y):\n",
    "    arrow=error/np.mean(y**2)*100\n",
    "    return 100-arrow\n",
    "\n",
    "\n"
   ]
  },
  {
   "cell_type": "code",
   "execution_count": 10,
   "metadata": {},
   "outputs": [],
   "source": [
    "def derivative_slope(m,x,c,y,reg_parm):\n",
    "    k=curve(m,x,c)-y\n",
    "    k=np.array(k)\n",
    "    temp=2*np.mean((np.multiply(k,x.T)),axis=1)\n",
    "    temp=np.array(temp)\n",
    "    temp=np.reshape(temp,(1,len(temp)))\n",
    "    return temp\n",
    "    return temp+2*reg_parm*(np.sum(m)**2)"
   ]
  },
  {
   "cell_type": "code",
   "execution_count": null,
   "metadata": {},
   "outputs": [],
   "source": []
  },
  {
   "cell_type": "code",
   "execution_count": 11,
   "metadata": {},
   "outputs": [
    {
     "data": {
      "text/plain": [
       "(1, 2500)"
      ]
     },
     "execution_count": 11,
     "metadata": {},
     "output_type": "execute_result"
    }
   ],
   "source": [
    "target_train=np.array(target_train)\n",
    "target_train=np.reshape(target_train,(1,len(target_train)))\n",
    "target_train.shape"
   ]
  },
  {
   "cell_type": "code",
   "execution_count": 12,
   "metadata": {},
   "outputs": [
    {
     "data": {
      "text/plain": [
       "1"
      ]
     },
     "execution_count": 12,
     "metadata": {},
     "output_type": "execute_result"
    }
   ],
   "source": [
    "len(target_train)"
   ]
  },
  {
   "cell_type": "code",
   "execution_count": 13,
   "metadata": {},
   "outputs": [
    {
     "data": {
      "text/plain": [
       "(1, 2500)"
      ]
     },
     "execution_count": 13,
     "metadata": {},
     "output_type": "execute_result"
    }
   ],
   "source": [
    "target_train.shape"
   ]
  },
  {
   "cell_type": "code",
   "execution_count": 14,
   "metadata": {},
   "outputs": [],
   "source": [
    "m=abs(np.random.randn(1,len(features_train.T)))\n",
    "c=abs(random.random())"
   ]
  },
  {
   "cell_type": "code",
   "execution_count": 15,
   "metadata": {},
   "outputs": [],
   "source": [
    "features_train=features_train/features_train.max()\n",
    "target_train=target_train/target_train.max()\n",
    "\n",
    "data=data.dropna(axis=0)"
   ]
  },
  {
   "cell_type": "code",
   "execution_count": 16,
   "metadata": {},
   "outputs": [
    {
     "name": "stdout",
     "output_type": "stream",
     "text": [
      "error: 0.020632197446035325\n",
      "accuracy: 92.36011354296855\n"
     ]
    },
    {
     "data": {
      "image/png": "[encoded data removed]",
      "text/plain": [
       "<Figure size 432x288 with 1 Axes>"
      ]
     },
     "metadata": {
      "needs_background": "light"
     },
     "output_type": "display_data"
    }
   ],
   "source": [
    "\n",
    "reg_parm=6\n",
    "cost=[]\n",
    "lr=0.1\n",
    "for i in range(0,1000):\n",
    "    m=m-lr*derivative_slope(m,features_train,c,target_train,reg_parm)\n",
    "    c=c-lr*derivative_intercept(m,features_train,c,target_train)\n",
    "    cost.append(error(m,features_train,c,target_train,reg_parm))\n",
    "    clear_output(True)\n",
    "    print('error:',error(m,features_train,c,target_train,reg_parm))\n",
    "    print('accuracy:',acc(error(m,features_train,c,target_train,reg_parm),target_train)) \n",
    "    \n",
    "plt.plot(cost)\n",
    "plt.show()"
   ]
  },
  {
   "cell_type": "code",
   "execution_count": null,
   "metadata": {},
   "outputs": [],
   "source": []
  },
  {
   "cell_type": "markdown",
   "metadata": {},
   "source": [
    "# for testing data set"
   ]
  },
  {
   "cell_type": "code",
   "execution_count": 17,
   "metadata": {},
   "outputs": [],
   "source": [
    "target_test=data['Price']\n",
    "target_test=target_test[2500:]\n",
    "features_test=data.drop(['Price'],axis=1).copy() #slecting features and target variables\n",
    "features_test=data.drop('Address',axis=1)\n",
    "features_test=features_test[2500:]\n"
   ]
  },
  {
   "cell_type": "code",
   "execution_count": 19,
   "metadata": {},
   "outputs": [],
   "source": [
    "features_test=features_test.select_dtypes(include=['int32','int64'])\n",
    "\n",
    "\n"
   ]
  },
  {
   "cell_type": "code",
   "execution_count": 20,
   "metadata": {},
   "outputs": [
    {
     "data": {
      "text/plain": [
       "(2500,)"
      ]
     },
     "execution_count": 20,
     "metadata": {},
     "output_type": "execute_result"
    }
   ],
   "source": [
    "target_test.shape"
   ]
  },
  {
   "cell_type": "code",
   "execution_count": 21,
   "metadata": {},
   "outputs": [
    {
     "data": {
      "text/plain": [
       "(1, 2500)"
      ]
     },
     "execution_count": 21,
     "metadata": {},
     "output_type": "execute_result"
    }
   ],
   "source": [
    "target_test=np.array(target_test)\n",
    "target_test=np.reshape(target_test,(1,len(target_test.T)))\n",
    "target_test.shape"
   ]
  },
  {
   "cell_type": "code",
   "execution_count": 29,
   "metadata": {},
   "outputs": [],
   "source": [
    "#defining the functions for testing data set\n",
    "def curve(m,x,c):\n",
    "    return np.dot(m,x.T)+c   \n",
    "\n",
    "def error(m,x,c,y,reg_parm):\n",
    "    return np.mean((curve(m,x,c)-y)**2)+reg_parm*(np.sum(m)**2)\n",
    "\n",
    "    \n",
    "def derivative_intercept(m,x,c,y):\n",
    "        return 2*np. mean(curve(m,x,c)-y)\n",
    "\n",
    "\n",
    "def accuracy_pred(error,y):\n",
    "    arrow= error/np.mean(y**2)*100\n",
    "    return 100- arrow\n",
    "    \n",
    "\n"
   ]
  },
  {
   "cell_type": "code",
   "execution_count": 23,
   "metadata": {},
   "outputs": [],
   "source": [
    "def derivative_slope(m,x,c,y,reg_parm):\n",
    "    k=curve(m,x,c)-y\n",
    "    k=np.array(k)\n",
    "    temp=2*np.mean((np.multiply(k,x.T)),axis=1)\n",
    "    temp=np.array(temp)\n",
    "    temp=np.reshape(temp,(1,len(temp)))\n",
    "    return temp\n",
    "    return temp+2*reg_parm*(np.sum(m)**2)\n"
   ]
  },
  {
   "cell_type": "code",
   "execution_count": 24,
   "metadata": {},
   "outputs": [],
   "source": [
    "m=abs(np.random.randn(1,len(features_test.T)))\n",
    "c=abs(random.random())"
   ]
  },
  {
   "cell_type": "code",
   "execution_count": 25,
   "metadata": {},
   "outputs": [],
   "source": [
    "features_test=features_test/features_test.max()\n",
    "target_test=target_test/target_test.max()\n",
    "\n",
    "data=data.dropna(axis=0)"
   ]
  },
  {
   "cell_type": "code",
   "execution_count": 28,
   "metadata": {},
   "outputs": [
    {
     "name": "stdout",
     "output_type": "stream",
     "text": [
      "error 0.021992236154766847\n",
      "accuracy 92.46165254530159\n"
     ]
    },
    {
     "data": {
      "image/png": "[encoded data removed]",
      "text/plain": [
       "<Figure size 432x288 with 1 Axes>"
      ]
     },
     "metadata": {
      "needs_background": "light"
     },
     "output_type": "display_data"
    }
   ],
   "source": [
    "\n",
    "reg_parm=6\n",
    "cost=[]\n",
    "lr=0.1\n",
    "for i in range(0,2000):\n",
    "    m=m-lr*derivative_slope(m,features_test,c,target_test,reg_parm)\n",
    "    c=c-lr*derivative_intercept(m,features_test,c,target_test)\n",
    "    cost.append(error(m,features_test,c,target_test,reg_parm))\n",
    "    clear_output(True)\n",
    "    print('error',error(m,features_test,c,target_test,reg_parm))\n",
    "    print('accuracy',accuracy_pred(error(m,features_test,c,target_test,reg_parm),target_test))\n",
    "    \n",
    "plt.plot(cost)\n",
    "plt.show()"
   ]
  }
 ],
 "metadata": {
  "kernelspec": {
   "display_name": "Python 3",
   "language": "python",
   "name": "python3"
  },
  "language_info": {
   "codemirror_mode": {
    "name": "ipython",
    "version": 3
   },
   "file_extension": ".py",
   "mimetype": "text/x-python",
   "name": "python",
   "nbconvert_exporter": "python",
   "pygments_lexer": "ipython3",
   "version": "3.7.3"
  }
 },
 "nbformat": 4,
 "nbformat_minor": 2
}
